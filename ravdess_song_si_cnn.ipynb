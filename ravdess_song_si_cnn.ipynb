{
  "cells": [
    {
      "cell_type": "markdown",
      "metadata": {
        "colab_type": "text",
        "id": "view-in-github"
      },
      "source": [
        "<a href=\"https://colab.research.google.com/github/bagustris/ravdess_song/blob/main/ravdess_song_si_cnn.ipynb\" target=\"_parent\"><img src=\"https://colab.research.google.com/assets/colab-badge.svg\" alt=\"Open In Colab\"/></a>"
      ]
    },
    {
      "cell_type": "markdown",
      "metadata": {
        "id": "ZcelxTz8sT6q"
      },
      "source": [
        "# RAVDESS Song Emotion Recognition"
      ]
    },
    {
      "cell_type": "code",
      "execution_count": 2,
      "metadata": {
        "id": "rbMKAfNesYuy"
      },
      "outputs": [],
      "source": [
        "import glob\n",
        "import os\n",
        "import librosa\n",
        "import numpy as np\n",
        "import tensorflow as tf"
      ]
    },
    {
      "cell_type": "code",
      "execution_count": 3,
      "metadata": {
        "colab": {
          "base_uri": "https://localhost:8080/"
        },
        "id": "tM7RnOezcSdt",
        "outputId": "bc7d85b7-231c-472d-b2cc-3c1802a3abf9"
      },
      "outputs": [],
      "source": [
        "#!git clone https://github.com/bagustris/ravdess_song.git"
      ]
    },
    {
      "cell_type": "code",
      "execution_count": 4,
      "metadata": {
        "colab": {
          "base_uri": "https://localhost:8080/"
        },
        "id": "KWVfE7MrcU1q",
        "outputId": "0375e811-75ae-49b6-d1b4-bc5e602ae757"
      },
      "outputs": [],
      "source": [
        "#cd ravdess_song"
      ]
    },
    {
      "cell_type": "code",
      "execution_count": 5,
      "metadata": {
        "id": "uwDICG5RcoHo"
      },
      "outputs": [],
      "source": [
        "# load extracted features\n",
        "x_train = np.load('data/x_train.npy', allow_pickle=True)\n",
        "x_test = np.load('data/x_test.npy', allow_pickle=True)\n",
        "y_train = np.load('data/y_train.npy', allow_pickle=True)\n",
        "y_test = np.load('data/y_test.npy', allow_pickle=True)\n"
      ]
    },
    {
      "cell_type": "code",
      "execution_count": 6,
      "metadata": {
        "id": "0EyQmU8Gc9KX"
      },
      "outputs": [],
      "source": [
        "# reshape X for CNN\n",
        "x_train = x_train.reshape(x_train.shape[0], x_train.shape[1], 1)\n",
        "x_test = x_test.reshape(x_test.shape[0], x_test.shape[1], 1)\n"
      ]
    },
    {
      "cell_type": "code",
      "execution_count": 8,
      "metadata": {
        "id": "j7cuaEPsdNmi"
      },
      "outputs": [],
      "source": [
        "def model_cnn():\n",
        "    model = tf.keras.models.Sequential()\n",
        "    model.add(tf.keras.layers.BatchNormalization(axis=-1,\n",
        "              input_shape=(x_train.shape[1], x_train.shape[2])))\n",
        "    model.add(tf.keras.layers.Conv1D(256, 128, 1, padding='same'))\n",
        "    model.add(tf.keras.layers.Activation('relu'))\n",
        "    model.add(tf.keras.layers.MaxPooling1D(2))\n",
        "    model.add(tf.keras.layers.Flatten())\n",
        "    model.add(tf.keras.layers.Dropout(0.4))\n",
        "    model.add(tf.keras.layers.Dense(6, activation='softmax'))\n",
        "\n",
        "    # compile model: set loss, optimizer, metric\n",
        "    model.compile(loss=tf.keras.losses.SparseCategoricalCrossentropy(),\n",
        "                  optimizer=tf.keras.optimizers.Adam(),\n",
        "                  metrics=['accuracy'])\n",
        "    return model"
      ]
    },
    {
      "cell_type": "code",
      "execution_count": 9,
      "metadata": {
        "colab": {
          "base_uri": "https://localhost:8080/"
        },
        "id": "GtfC1aFidTwL",
        "outputId": "fe5face6-15eb-4cd0-d8a9-4fe8b266a0ee"
      },
      "outputs": [
        {
          "name": "stdout",
          "output_type": "stream",
          "text": [
            "Model: \"sequential\"\n",
            "_________________________________________________________________\n",
            "Layer (type)                 Output Shape              Param #   \n",
            "=================================================================\n",
            "batch_normalization (BatchNo (None, 386, 1)            4         \n",
            "_________________________________________________________________\n",
            "conv1d (Conv1D)              (None, 386, 256)          33024     \n",
            "_________________________________________________________________\n",
            "activation (Activation)      (None, 386, 256)          0         \n",
            "_________________________________________________________________\n",
            "max_pooling1d (MaxPooling1D) (None, 193, 256)          0         \n",
            "_________________________________________________________________\n",
            "flatten (Flatten)            (None, 49408)             0         \n",
            "_________________________________________________________________\n",
            "dropout (Dropout)            (None, 49408)             0         \n",
            "_________________________________________________________________\n",
            "dense (Dense)                (None, 6)                 296454    \n",
            "=================================================================\n",
            "Total params: 329,482\n",
            "Trainable params: 329,480\n",
            "Non-trainable params: 2\n",
            "_________________________________________________________________\n"
          ]
        }
      ],
      "source": [
        "model = model_cnn()\n",
        "model.summary()"
      ]
    },
    {
      "cell_type": "code",
      "execution_count": 10,
      "metadata": {
        "colab": {
          "base_uri": "https://localhost:8080/"
        },
        "id": "tZdJ-vpZdYRS",
        "outputId": "c4030a02-8af3-4f0c-b27e-97e8316bc831"
      },
      "outputs": [
        {
          "name": "stdout",
          "output_type": "stream",
          "text": [
            "Epoch 1/100\n",
            "53/53 [==============================] - 12s 187ms/step - loss: 1.7797 - accuracy: 0.2727\n",
            "Epoch 2/100\n",
            "53/53 [==============================] - 10s 196ms/step - loss: 1.5189 - accuracy: 0.3876\n",
            "Epoch 3/100\n",
            "53/53 [==============================] - 11s 211ms/step - loss: 1.4105 - accuracy: 0.4270\n",
            "Epoch 4/100\n",
            "53/53 [==============================] - 10s 196ms/step - loss: 1.2227 - accuracy: 0.5431\n",
            "Epoch 5/100\n",
            "53/53 [==============================] - 10s 185ms/step - loss: 1.1984 - accuracy: 0.5622\n",
            "Epoch 6/100\n",
            "53/53 [==============================] - 10s 192ms/step - loss: 1.0871 - accuracy: 0.5658\n",
            "Epoch 7/100\n",
            "53/53 [==============================] - 11s 202ms/step - loss: 0.9520 - accuracy: 0.6388\n",
            "Epoch 8/100\n",
            "53/53 [==============================] - 10s 195ms/step - loss: 0.9450 - accuracy: 0.6543\n",
            "Epoch 9/100\n",
            "53/53 [==============================] - 11s 199ms/step - loss: 0.8502 - accuracy: 0.6950\n",
            "Epoch 10/100\n",
            "53/53 [==============================] - 11s 207ms/step - loss: 0.7165 - accuracy: 0.7177\n",
            "Epoch 11/100\n",
            "53/53 [==============================] - 11s 208ms/step - loss: 0.6821 - accuracy: 0.7356\n",
            "Epoch 12/100\n",
            "53/53 [==============================] - 11s 203ms/step - loss: 0.7398 - accuracy: 0.7057\n",
            "Epoch 13/100\n",
            "53/53 [==============================] - 11s 203ms/step - loss: 0.6629 - accuracy: 0.7380\n",
            "Epoch 14/100\n",
            "53/53 [==============================] - 11s 202ms/step - loss: 0.6371 - accuracy: 0.7572\n",
            "Epoch 15/100\n",
            "53/53 [==============================] - 11s 204ms/step - loss: 0.7488 - accuracy: 0.7333\n",
            "Epoch 16/100\n",
            "53/53 [==============================] - 11s 214ms/step - loss: 0.6894 - accuracy: 0.7548\n",
            "Epoch 17/100\n",
            "53/53 [==============================] - 11s 214ms/step - loss: 0.6049 - accuracy: 0.7608\n",
            "Epoch 18/100\n",
            "53/53 [==============================] - 11s 211ms/step - loss: 0.5640 - accuracy: 0.8002\n",
            "Epoch 19/100\n",
            "53/53 [==============================] - 11s 214ms/step - loss: 0.4992 - accuracy: 0.8170\n",
            "Epoch 20/100\n",
            "53/53 [==============================] - 11s 205ms/step - loss: 0.4780 - accuracy: 0.8254\n",
            "Epoch 21/100\n",
            "53/53 [==============================] - 11s 213ms/step - loss: 0.4692 - accuracy: 0.8289\n",
            "Epoch 22/100\n",
            "53/53 [==============================] - 11s 206ms/step - loss: 0.5558 - accuracy: 0.7787\n",
            "Epoch 23/100\n",
            "53/53 [==============================] - 12s 221ms/step - loss: 0.6436 - accuracy: 0.7572\n",
            "Epoch 24/100\n",
            "53/53 [==============================] - 11s 207ms/step - loss: 0.4650 - accuracy: 0.8194\n",
            "Epoch 25/100\n",
            "53/53 [==============================] - 11s 214ms/step - loss: 0.6095 - accuracy: 0.7632\n",
            "Epoch 26/100\n",
            "53/53 [==============================] - 11s 216ms/step - loss: 0.4483 - accuracy: 0.8278\n",
            "Epoch 27/100\n",
            "53/53 [==============================] - 11s 214ms/step - loss: 0.4308 - accuracy: 0.8361\n",
            "Epoch 28/100\n",
            "53/53 [==============================] - 11s 204ms/step - loss: 0.4841 - accuracy: 0.8062\n",
            "Epoch 29/100\n",
            "53/53 [==============================] - 11s 215ms/step - loss: 0.5353 - accuracy: 0.8074\n",
            "Epoch 30/100\n",
            "53/53 [==============================] - 11s 216ms/step - loss: 0.5876 - accuracy: 0.7931\n",
            "Epoch 31/100\n",
            "53/53 [==============================] - 12s 221ms/step - loss: 0.4377 - accuracy: 0.8481\n",
            "Epoch 32/100\n",
            "53/53 [==============================] - 11s 206ms/step - loss: 0.5343 - accuracy: 0.8110\n",
            "Epoch 33/100\n",
            "53/53 [==============================] - 12s 219ms/step - loss: 0.5207 - accuracy: 0.8182\n",
            "Epoch 34/100\n",
            "53/53 [==============================] - 11s 215ms/step - loss: 0.4544 - accuracy: 0.8373\n",
            "Epoch 35/100\n",
            "53/53 [==============================] - 11s 206ms/step - loss: 0.3299 - accuracy: 0.8768\n",
            "Epoch 36/100\n",
            "53/53 [==============================] - 12s 233ms/step - loss: 0.3781 - accuracy: 0.8624\n",
            "Epoch 37/100\n",
            "53/53 [==============================] - 12s 219ms/step - loss: 0.4374 - accuracy: 0.8361\n",
            "Epoch 38/100\n",
            "53/53 [==============================] - 12s 218ms/step - loss: 0.3819 - accuracy: 0.8541\n",
            "Epoch 39/100\n",
            "53/53 [==============================] - 12s 218ms/step - loss: 0.3517 - accuracy: 0.8577\n",
            "Epoch 40/100\n",
            "53/53 [==============================] - 12s 218ms/step - loss: 0.3713 - accuracy: 0.8672\n",
            "Epoch 41/100\n",
            "53/53 [==============================] - 11s 213ms/step - loss: 0.4490 - accuracy: 0.8254\n",
            "Epoch 42/100\n",
            "53/53 [==============================] - 11s 209ms/step - loss: 0.3823 - accuracy: 0.8589\n",
            "Epoch 43/100\n",
            "53/53 [==============================] - 12s 235ms/step - loss: 0.3973 - accuracy: 0.8421\n",
            "Epoch 44/100\n",
            "53/53 [==============================] - 11s 206ms/step - loss: 0.3354 - accuracy: 0.8648\n",
            "Epoch 45/100\n",
            "53/53 [==============================] - 12s 219ms/step - loss: 0.4604 - accuracy: 0.8122\n",
            "Epoch 46/100\n",
            "53/53 [==============================] - 12s 224ms/step - loss: 0.4164 - accuracy: 0.8469\n",
            "Epoch 47/100\n",
            "53/53 [==============================] - 11s 214ms/step - loss: 0.4155 - accuracy: 0.8373\n",
            "Epoch 48/100\n",
            "53/53 [==============================] - 11s 217ms/step - loss: 0.3940 - accuracy: 0.8457\n",
            "Epoch 49/100\n",
            "53/53 [==============================] - 11s 214ms/step - loss: 0.3000 - accuracy: 0.8947\n",
            "Epoch 50/100\n",
            "53/53 [==============================] - 12s 226ms/step - loss: 0.3698 - accuracy: 0.8600\n",
            "Epoch 51/100\n",
            "53/53 [==============================] - 12s 226ms/step - loss: 0.3488 - accuracy: 0.8565\n",
            "Epoch 52/100\n",
            "53/53 [==============================] - 10s 189ms/step - loss: 0.3433 - accuracy: 0.8636\n",
            "Epoch 53/100\n",
            "53/53 [==============================] - 8s 158ms/step - loss: 0.3184 - accuracy: 0.8864\n",
            "Epoch 54/100\n",
            "53/53 [==============================] - 8s 152ms/step - loss: 0.5195 - accuracy: 0.8170\n",
            "Epoch 55/100\n",
            "53/53 [==============================] - 8s 153ms/step - loss: 0.2970 - accuracy: 0.8876\n",
            "Epoch 56/100\n",
            "53/53 [==============================] - 8s 151ms/step - loss: 0.3548 - accuracy: 0.8612\n",
            "Epoch 57/100\n",
            "53/53 [==============================] - 8s 148ms/step - loss: 0.3923 - accuracy: 0.8600\n",
            "Epoch 58/100\n",
            "53/53 [==============================] - 8s 141ms/step - loss: 0.2809 - accuracy: 0.8888\n",
            "Epoch 59/100\n",
            "53/53 [==============================] - 8s 161ms/step - loss: 0.2775 - accuracy: 0.8911\n",
            "Epoch 60/100\n",
            "53/53 [==============================] - 8s 152ms/step - loss: 0.2875 - accuracy: 0.8995\n",
            "Epoch 61/100\n",
            "53/53 [==============================] - 8s 148ms/step - loss: 0.3181 - accuracy: 0.8720\n",
            "Epoch 62/100\n",
            "53/53 [==============================] - 8s 149ms/step - loss: 0.2854 - accuracy: 0.8935\n",
            "Epoch 63/100\n",
            "53/53 [==============================] - 8s 149ms/step - loss: 0.2973 - accuracy: 0.8911\n",
            "Epoch 64/100\n",
            "53/53 [==============================] - 8s 151ms/step - loss: 0.2817 - accuracy: 0.8756\n",
            "Epoch 65/100\n",
            "53/53 [==============================] - 7s 140ms/step - loss: 0.2682 - accuracy: 0.8995\n",
            "Epoch 66/100\n",
            "53/53 [==============================] - 8s 147ms/step - loss: 0.3451 - accuracy: 0.8840\n",
            "Epoch 67/100\n",
            "53/53 [==============================] - 8s 150ms/step - loss: 0.3561 - accuracy: 0.8744\n",
            "Epoch 68/100\n",
            "53/53 [==============================] - 8s 151ms/step - loss: 0.3657 - accuracy: 0.8672\n",
            "Epoch 69/100\n",
            "53/53 [==============================] - 8s 149ms/step - loss: 0.2665 - accuracy: 0.8923\n",
            "Epoch 70/100\n",
            "53/53 [==============================] - 8s 156ms/step - loss: 0.3333 - accuracy: 0.8744\n",
            "Epoch 71/100\n",
            "53/53 [==============================] - 7s 140ms/step - loss: 0.3032 - accuracy: 0.8840\n",
            "Epoch 72/100\n",
            "53/53 [==============================] - 8s 152ms/step - loss: 0.3545 - accuracy: 0.8696\n",
            "Epoch 73/100\n",
            "53/53 [==============================] - 8s 152ms/step - loss: 0.3888 - accuracy: 0.8529\n",
            "Epoch 74/100\n",
            "53/53 [==============================] - 8s 149ms/step - loss: 0.2556 - accuracy: 0.8995\n",
            "Epoch 75/100\n",
            "53/53 [==============================] - 8s 148ms/step - loss: 0.2560 - accuracy: 0.9067\n",
            "Epoch 76/100\n",
            "53/53 [==============================] - 8s 148ms/step - loss: 0.2442 - accuracy: 0.9115\n",
            "Epoch 77/100\n",
            "53/53 [==============================] - 8s 152ms/step - loss: 0.2566 - accuracy: 0.8971\n",
            "Epoch 78/100\n",
            "53/53 [==============================] - 8s 157ms/step - loss: 0.4094 - accuracy: 0.8445\n",
            "Epoch 79/100\n",
            "53/53 [==============================] - 9s 168ms/step - loss: 0.3274 - accuracy: 0.8708\n",
            "Epoch 80/100\n",
            "53/53 [==============================] - 8s 143ms/step - loss: 0.2674 - accuracy: 0.8900\n",
            "Epoch 81/100\n",
            "53/53 [==============================] - 8s 147ms/step - loss: 0.2533 - accuracy: 0.9031\n",
            "Epoch 82/100\n",
            "53/53 [==============================] - 8s 154ms/step - loss: 0.2284 - accuracy: 0.9187\n",
            "Epoch 83/100\n",
            "53/53 [==============================] - 8s 147ms/step - loss: 0.3071 - accuracy: 0.8816\n",
            "Epoch 84/100\n",
            "53/53 [==============================] - 8s 142ms/step - loss: 0.2683 - accuracy: 0.8911\n",
            "Epoch 85/100\n",
            "53/53 [==============================] - 8s 152ms/step - loss: 0.2772 - accuracy: 0.8876\n",
            "Epoch 86/100\n",
            "53/53 [==============================] - 8s 152ms/step - loss: 0.2123 - accuracy: 0.9222\n",
            "Epoch 87/100\n",
            "53/53 [==============================] - 9s 162ms/step - loss: 0.2249 - accuracy: 0.9222\n",
            "Epoch 88/100\n",
            "53/53 [==============================] - 8s 148ms/step - loss: 0.2551 - accuracy: 0.9067\n",
            "Epoch 89/100\n",
            "53/53 [==============================] - 8s 149ms/step - loss: 0.1732 - accuracy: 0.9282\n",
            "Epoch 90/100\n",
            "53/53 [==============================] - 8s 154ms/step - loss: 0.2662 - accuracy: 0.8971\n",
            "Epoch 91/100\n",
            "53/53 [==============================] - 8s 154ms/step - loss: 0.2796 - accuracy: 0.8911\n",
            "Epoch 92/100\n",
            "53/53 [==============================] - 8s 148ms/step - loss: 0.2413 - accuracy: 0.9091\n",
            "Epoch 93/100\n",
            "53/53 [==============================] - 8s 148ms/step - loss: 0.2219 - accuracy: 0.9294\n",
            "Epoch 94/100\n",
            "53/53 [==============================] - 8s 149ms/step - loss: 0.1833 - accuracy: 0.9318\n",
            "Epoch 95/100\n",
            "53/53 [==============================] - 8s 153ms/step - loss: 0.2403 - accuracy: 0.9091\n",
            "Epoch 96/100\n",
            "53/53 [==============================] - 8s 152ms/step - loss: 0.1848 - accuracy: 0.9282\n",
            "Epoch 97/100\n",
            "53/53 [==============================] - 8s 154ms/step - loss: 0.2917 - accuracy: 0.8888\n",
            "Epoch 98/100\n",
            "53/53 [==============================] - 8s 152ms/step - loss: 0.2246 - accuracy: 0.9270\n",
            "Epoch 99/100\n",
            "53/53 [==============================] - 8s 148ms/step - loss: 0.2294 - accuracy: 0.9079\n",
            "Epoch 100/100\n",
            "53/53 [==============================] - 8s 145ms/step - loss: 0.2413 - accuracy: 0.9019\n"
          ]
        }
      ],
      "source": [
        "# train CNN model\n",
        "hist = model.fit(x_train, y_train, epochs=100, shuffle=True, batch_size=16)"
      ]
    },
    {
      "cell_type": "code",
      "execution_count": 11,
      "metadata": {
        "colab": {
          "base_uri": "https://localhost:8080/"
        },
        "id": "-WgLQKcqd8gm",
        "outputId": "c608b23a-f542-414c-c89c-5f90f55523f9"
      },
      "outputs": [
        {
          "name": "stdout",
          "output_type": "stream",
          "text": [
            "11/11 [==============================] - 1s 52ms/step - loss: 0.8181 - accuracy: 0.7159\n",
            "Loss:  0.818128228187561 --> Accuracy:  0.7159090638160706\n"
          ]
        }
      ],
      "source": [
        "evaluate = model.evaluate(x_test, y_test, batch_size=16)\n",
        "print(\"Loss: \", evaluate[0], \"--> Accuracy: \", evaluate[1])"
      ]
    }
  ],
  "metadata": {
    "colab": {
      "authorship_tag": "ABX9TyOyUOFNNlSsy4uu0BtpomrT",
      "include_colab_link": true,
      "name": "Untitled0.ipynb",
      "provenance": []
    },
    "interpreter": {
      "hash": "916dbcbb3f70747c44a77c7bcd40155683ae19c65e1c03b4aa3499c5328201f1"
    },
    "kernelspec": {
      "display_name": "Python 3.8.10 64-bit",
      "name": "python3"
    },
    "language_info": {
      "codemirror_mode": {
        "name": "ipython",
        "version": 3
      },
      "file_extension": ".py",
      "mimetype": "text/x-python",
      "name": "python",
      "nbconvert_exporter": "python",
      "pygments_lexer": "ipython3",
      "version": "3.8.10"
    }
  },
  "nbformat": 4,
  "nbformat_minor": 0
}
