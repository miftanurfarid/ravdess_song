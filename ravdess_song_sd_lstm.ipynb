{
  "cells": [
    {
      "cell_type": "markdown",
      "metadata": {
        "colab_type": "text",
        "id": "view-in-github"
      },
      "source": [
        "<a href=\"https://colab.research.google.com/github/bagustris/ravdess_song/blob/main/ravdess_song_sd_lstm.ipynb\" target=\"_parent\"><img src=\"https://colab.research.google.com/assets/colab-badge.svg\" alt=\"Open In Colab\"/></a>"
      ]
    },
    {
      "cell_type": "markdown",
      "metadata": {
        "id": "ZcelxTz8sT6q"
      },
      "source": [
        "# RAVDESS Song Emotion Recognition with LSTM \n",
        "Acoustic features are loaded directly from data directory"
      ]
    },
    {
      "cell_type": "code",
      "execution_count": 3,
      "metadata": {
        "id": "rbMKAfNesYuy"
      },
      "outputs": [],
      "source": [
        "import glob\n",
        "import os\n",
        "import librosa\n",
        "import numpy as np\n",
        "from sklearn.model_selection import train_test_split\n",
        "import tensorflow as tf"
      ]
    },
    {
      "cell_type": "code",
      "execution_count": 4,
      "metadata": {
        "colab": {
          "base_uri": "https://localhost:8080/"
        },
        "id": "8T0F32ZRCrAG",
        "outputId": "51b89bde-1f25-43fd-c5ab-b942603515db"
      },
      "outputs": [],
      "source": [
        "#!git clone https://github.com/bagustris/ravdess_song.git"
      ]
    },
    {
      "cell_type": "code",
      "execution_count": 5,
      "metadata": {
        "colab": {
          "base_uri": "https://localhost:8080/"
        },
        "id": "b33LC9_DC0gv",
        "outputId": "54831bfc-17d0-4e42-a60a-3b31665095d0"
      },
      "outputs": [],
      "source": [
        "#cd ravdess_song/"
      ]
    },
    {
      "cell_type": "code",
      "execution_count": 6,
      "metadata": {
        "id": "EqT-75OvbIhJ"
      },
      "outputs": [],
      "source": [
        "# assign hsf to X, lab to y; reshape X for LSTM\n",
        "X = np.load('data/x.npy', allow_pickle=True)\n",
        "y = np.load('data/y.npy', allow_pickle=True)"
      ]
    },
    {
      "cell_type": "code",
      "execution_count": 7,
      "metadata": {
        "id": "L1dGaGt8Z07N"
      },
      "outputs": [],
      "source": [
        "# reshape x untuk lstm\n",
        "X = X.reshape((X.shape[0], 1, X.shape[1]))"
      ]
    },
    {
      "cell_type": "code",
      "execution_count": 8,
      "metadata": {
        "id": "o0mM3RbKcI82"
      },
      "outputs": [],
      "source": [
        "# split into train and test\n",
        "x_train, x_test, y_train, y_test = train_test_split(X, y, test_size=0.1)"
      ]
    },
    {
      "cell_type": "code",
      "execution_count": 9,
      "metadata": {
        "id": "aq0SbnHTcMGG"
      },
      "outputs": [],
      "source": [
        "# functio to build LSTM model\n",
        "def model_lstm():\n",
        "    model = tf.keras.models.Sequential()\n",
        "    model.add(tf.keras.layers.BatchNormalization(axis=-1,\n",
        "              input_shape=(x_train.shape[1], x_train.shape[2])))\n",
        "    model.add(tf.keras.layers.LSTM(256, return_sequences=True))\n",
        "    model.add(tf.keras.layers.LSTM(256, return_sequences=True))\n",
        "    model.add(tf.keras.layers.LSTM(256, return_sequences=True))\n",
        "    model.add(tf.keras.layers.Flatten())\n",
        "    model.add(tf.keras.layers.Dropout(0.4))\n",
        "    model.add(tf.keras.layers.Dense(6, activation='softmax'))\n",
        "\n",
        "    # compile model: set loss, optimizer, metric\n",
        "    model.compile(loss=tf.keras.losses.SparseCategoricalCrossentropy(),\n",
        "                  optimizer=tf.keras.optimizers.Adam(),\n",
        "                  metrics=['accuracy'])\n",
        "    return model"
      ]
    },
    {
      "cell_type": "code",
      "execution_count": 11,
      "metadata": {
        "colab": {
          "base_uri": "https://localhost:8080/"
        },
        "id": "-vT5MfXXcX2N",
        "outputId": "30987159-268c-4922-877a-7d63d9e47c68"
      },
      "outputs": [
        {
          "name": "stdout",
          "output_type": "stream",
          "text": [
            "Model: \"sequential_1\"\n",
            "_________________________________________________________________\n",
            "Layer (type)                 Output Shape              Param #   \n",
            "=================================================================\n",
            "batch_normalization_1 (Batch (None, 1, 386)            1544      \n",
            "_________________________________________________________________\n",
            "lstm_3 (LSTM)                (None, 1, 256)            658432    \n",
            "_________________________________________________________________\n",
            "lstm_4 (LSTM)                (None, 1, 256)            525312    \n",
            "_________________________________________________________________\n",
            "lstm_5 (LSTM)                (None, 1, 256)            525312    \n",
            "_________________________________________________________________\n",
            "flatten_1 (Flatten)          (None, 256)               0         \n",
            "_________________________________________________________________\n",
            "dropout_1 (Dropout)          (None, 256)               0         \n",
            "_________________________________________________________________\n",
            "dense_1 (Dense)              (None, 6)                 1542      \n",
            "=================================================================\n",
            "Total params: 1,712,142\n",
            "Trainable params: 1,711,370\n",
            "Non-trainable params: 772\n",
            "_________________________________________________________________\n",
            "None\n"
          ]
        }
      ],
      "source": [
        "# create the model\n",
        "model = model_lstm()\n",
        "print(model.summary())\n",
        "# hasil print model. shape dense hanya 6 sesuai dengan outputnya yaitu 6 emosi dalam song"
      ]
    },
    {
      "cell_type": "code",
      "execution_count": 12,
      "metadata": {
        "colab": {
          "base_uri": "https://localhost:8080/"
        },
        "id": "FXO6TWIFcbxA",
        "outputId": "b8bc5127-f060-4687-8bde-5cb78a185e4b"
      },
      "outputs": [
        {
          "name": "stdout",
          "output_type": "stream",
          "text": [
            "Epoch 1/100\n",
            "57/57 [==============================] - 54s 119ms/step - loss: 1.4292 - accuracy: 0.4374\n",
            "Epoch 2/100\n",
            "57/57 [==============================] - 7s 130ms/step - loss: 0.6479 - accuracy: 0.7571\n",
            "Epoch 3/100\n",
            "57/57 [==============================] - 7s 126ms/step - loss: 0.4609 - accuracy: 0.8286\n",
            "Epoch 4/100\n",
            "57/57 [==============================] - 8s 134ms/step - loss: 0.3339 - accuracy: 0.8670\n",
            "Epoch 5/100\n",
            "57/57 [==============================] - 9s 155ms/step - loss: 0.3223 - accuracy: 0.8846\n",
            "Epoch 6/100\n",
            "57/57 [==============================] - 7s 119ms/step - loss: 0.2495 - accuracy: 0.9132\n",
            "Epoch 7/100\n",
            "57/57 [==============================] - 8s 142ms/step - loss: 0.2608 - accuracy: 0.9088\n",
            "Epoch 8/100\n",
            "57/57 [==============================] - 7s 128ms/step - loss: 0.1781 - accuracy: 0.9374\n",
            "Epoch 9/100\n",
            "57/57 [==============================] - 8s 132ms/step - loss: 0.1661 - accuracy: 0.9396\n",
            "Epoch 10/100\n",
            "57/57 [==============================] - 7s 129ms/step - loss: 0.1476 - accuracy: 0.9495\n",
            "Epoch 11/100\n",
            "57/57 [==============================] - 7s 120ms/step - loss: 0.1521 - accuracy: 0.9473\n",
            "Epoch 12/100\n",
            "57/57 [==============================] - 8s 133ms/step - loss: 0.1579 - accuracy: 0.9527\n",
            "Epoch 13/100\n",
            "57/57 [==============================] - 7s 129ms/step - loss: 0.1759 - accuracy: 0.9385\n",
            "Epoch 14/100\n",
            "57/57 [==============================] - 10s 167ms/step - loss: 0.1351 - accuracy: 0.9516\n",
            "Epoch 15/100\n",
            "57/57 [==============================] - 10s 168ms/step - loss: 0.1425 - accuracy: 0.9538\n",
            "Epoch 16/100\n",
            "57/57 [==============================] - 8s 147ms/step - loss: 0.1038 - accuracy: 0.9593\n",
            "Epoch 17/100\n",
            "57/57 [==============================] - 8s 147ms/step - loss: 0.0947 - accuracy: 0.9648\n",
            "Epoch 18/100\n",
            "57/57 [==============================] - 7s 125ms/step - loss: 0.0612 - accuracy: 0.9769\n",
            "Epoch 19/100\n",
            "57/57 [==============================] - 7s 126ms/step - loss: 0.0625 - accuracy: 0.9791\n",
            "Epoch 20/100\n",
            "57/57 [==============================] - 8s 142ms/step - loss: 0.0584 - accuracy: 0.9802\n",
            "Epoch 21/100\n",
            "57/57 [==============================] - 7s 130ms/step - loss: 0.0651 - accuracy: 0.9714\n",
            "Epoch 22/100\n",
            "57/57 [==============================] - 7s 123ms/step - loss: 0.1243 - accuracy: 0.9604\n",
            "Epoch 23/100\n",
            "57/57 [==============================] - 5s 90ms/step - loss: 0.0952 - accuracy: 0.9648\n",
            "Epoch 24/100\n",
            "57/57 [==============================] - 7s 130ms/step - loss: 0.0655 - accuracy: 0.9780\n",
            "Epoch 25/100\n",
            "57/57 [==============================] - 6s 111ms/step - loss: 0.0408 - accuracy: 0.9846\n",
            "Epoch 26/100\n",
            "57/57 [==============================] - 6s 102ms/step - loss: 0.0378 - accuracy: 0.9879\n",
            "Epoch 27/100\n",
            "57/57 [==============================] - 6s 107ms/step - loss: 0.0594 - accuracy: 0.9835\n",
            "Epoch 28/100\n",
            "57/57 [==============================] - 8s 140ms/step - loss: 0.0600 - accuracy: 0.9813\n",
            "Epoch 29/100\n",
            "57/57 [==============================] - 8s 135ms/step - loss: 0.0577 - accuracy: 0.9813\n",
            "Epoch 30/100\n",
            "57/57 [==============================] - 10s 182ms/step - loss: 0.0645 - accuracy: 0.9780\n",
            "Epoch 31/100\n",
            "57/57 [==============================] - 9s 157ms/step - loss: 0.0383 - accuracy: 0.9857\n",
            "Epoch 32/100\n",
            "57/57 [==============================] - 8s 138ms/step - loss: 0.0573 - accuracy: 0.9813\n",
            "Epoch 33/100\n",
            "57/57 [==============================] - 7s 121ms/step - loss: 0.0358 - accuracy: 0.9901\n",
            "Epoch 34/100\n",
            "57/57 [==============================] - 8s 136ms/step - loss: 0.0416 - accuracy: 0.9857\n",
            "Epoch 35/100\n",
            "57/57 [==============================] - 8s 142ms/step - loss: 0.0759 - accuracy: 0.9758\n",
            "Epoch 36/100\n",
            "57/57 [==============================] - 4s 78ms/step - loss: 0.0767 - accuracy: 0.9769\n",
            "Epoch 37/100\n",
            "57/57 [==============================] - 5s 83ms/step - loss: 0.0425 - accuracy: 0.9890\n",
            "Epoch 38/100\n",
            "57/57 [==============================] - 5s 88ms/step - loss: 0.0464 - accuracy: 0.9846\n",
            "Epoch 39/100\n",
            "57/57 [==============================] - 5s 81ms/step - loss: 0.0580 - accuracy: 0.9802\n",
            "Epoch 40/100\n",
            "57/57 [==============================] - 4s 72ms/step - loss: 0.0441 - accuracy: 0.9824\n",
            "Epoch 41/100\n",
            "57/57 [==============================] - 5s 81ms/step - loss: 0.0531 - accuracy: 0.9824\n",
            "Epoch 42/100\n",
            "57/57 [==============================] - 5s 84ms/step - loss: 0.0373 - accuracy: 0.9901\n",
            "Epoch 43/100\n",
            "57/57 [==============================] - 5s 84ms/step - loss: 0.0230 - accuracy: 0.9923\n",
            "Epoch 44/100\n",
            "57/57 [==============================] - 6s 108ms/step - loss: 0.0474 - accuracy: 0.9857\n",
            "Epoch 45/100\n",
            "57/57 [==============================] - 7s 119ms/step - loss: 0.0380 - accuracy: 0.9901\n",
            "Epoch 46/100\n",
            "57/57 [==============================] - 6s 109ms/step - loss: 0.0485 - accuracy: 0.9857\n",
            "Epoch 47/100\n",
            "57/57 [==============================] - 9s 152ms/step - loss: 0.0229 - accuracy: 0.9934\n",
            "Epoch 48/100\n",
            "57/57 [==============================] - 9s 156ms/step - loss: 0.0266 - accuracy: 0.9912\n",
            "Epoch 49/100\n",
            "57/57 [==============================] - 9s 155ms/step - loss: 0.0212 - accuracy: 0.9912\n",
            "Epoch 50/100\n",
            "57/57 [==============================] - 8s 144ms/step - loss: 0.0766 - accuracy: 0.9758\n",
            "Epoch 51/100\n",
            "57/57 [==============================] - 8s 149ms/step - loss: 0.0402 - accuracy: 0.9846\n",
            "Epoch 52/100\n",
            "57/57 [==============================] - 9s 153ms/step - loss: 0.0404 - accuracy: 0.9846\n",
            "Epoch 53/100\n",
            "57/57 [==============================] - 8s 142ms/step - loss: 0.0386 - accuracy: 0.9868\n",
            "Epoch 54/100\n",
            "57/57 [==============================] - 9s 158ms/step - loss: 0.0217 - accuracy: 0.9923\n",
            "Epoch 55/100\n",
            "57/57 [==============================] - 7s 124ms/step - loss: 0.0320 - accuracy: 0.9879\n",
            "Epoch 56/100\n",
            "57/57 [==============================] - 7s 124ms/step - loss: 0.0372 - accuracy: 0.9890\n",
            "Epoch 57/100\n",
            "57/57 [==============================] - 9s 151ms/step - loss: 0.0240 - accuracy: 0.9934\n",
            "Epoch 58/100\n",
            "57/57 [==============================] - 7s 127ms/step - loss: 0.0312 - accuracy: 0.9945\n",
            "Epoch 59/100\n",
            "57/57 [==============================] - 8s 137ms/step - loss: 0.0403 - accuracy: 0.9890\n",
            "Epoch 60/100\n",
            "57/57 [==============================] - 8s 146ms/step - loss: 0.0222 - accuracy: 0.9934\n",
            "Epoch 61/100\n",
            "57/57 [==============================] - 7s 126ms/step - loss: 0.0350 - accuracy: 0.9835\n",
            "Epoch 62/100\n",
            "57/57 [==============================] - 7s 121ms/step - loss: 0.0415 - accuracy: 0.9868\n",
            "Epoch 63/100\n",
            "57/57 [==============================] - 7s 119ms/step - loss: 0.0445 - accuracy: 0.9835\n",
            "Epoch 64/100\n",
            "57/57 [==============================] - 7s 119ms/step - loss: 0.0422 - accuracy: 0.9846\n",
            "Epoch 65/100\n",
            "57/57 [==============================] - 7s 124ms/step - loss: 0.0327 - accuracy: 0.9879\n",
            "Epoch 66/100\n",
            "57/57 [==============================] - 7s 120ms/step - loss: 0.0535 - accuracy: 0.9813\n",
            "Epoch 67/100\n",
            "57/57 [==============================] - 7s 125ms/step - loss: 0.0484 - accuracy: 0.9857\n",
            "Epoch 68/100\n",
            "57/57 [==============================] - 7s 129ms/step - loss: 0.0503 - accuracy: 0.9912\n",
            "Epoch 69/100\n",
            "57/57 [==============================] - 8s 131ms/step - loss: 0.0240 - accuracy: 0.9901\n",
            "Epoch 70/100\n",
            "57/57 [==============================] - 7s 129ms/step - loss: 0.0208 - accuracy: 0.9923\n",
            "Epoch 71/100\n",
            "57/57 [==============================] - 6s 110ms/step - loss: 0.0155 - accuracy: 0.9956\n",
            "Epoch 72/100\n",
            "57/57 [==============================] - 7s 122ms/step - loss: 0.0122 - accuracy: 0.9967\n",
            "Epoch 73/100\n",
            "57/57 [==============================] - 7s 130ms/step - loss: 0.0208 - accuracy: 0.9901\n",
            "Epoch 74/100\n",
            "57/57 [==============================] - 7s 119ms/step - loss: 0.0109 - accuracy: 0.9967\n",
            "Epoch 75/100\n",
            "57/57 [==============================] - 8s 133ms/step - loss: 0.0116 - accuracy: 0.9967\n",
            "Epoch 76/100\n",
            "57/57 [==============================] - 9s 155ms/step - loss: 0.0246 - accuracy: 0.9901\n",
            "Epoch 77/100\n",
            "57/57 [==============================] - 7s 126ms/step - loss: 0.0298 - accuracy: 0.9890\n",
            "Epoch 78/100\n",
            "57/57 [==============================] - 7s 131ms/step - loss: 0.0168 - accuracy: 0.9956\n",
            "Epoch 79/100\n",
            "57/57 [==============================] - 8s 139ms/step - loss: 0.0055 - accuracy: 0.9989\n",
            "Epoch 80/100\n",
            "57/57 [==============================] - 7s 118ms/step - loss: 0.0084 - accuracy: 0.9978\n",
            "Epoch 81/100\n",
            "57/57 [==============================] - 6s 114ms/step - loss: 0.0384 - accuracy: 0.9890\n",
            "Epoch 82/100\n",
            "57/57 [==============================] - 6s 108ms/step - loss: 0.0079 - accuracy: 0.9989\n",
            "Epoch 83/100\n",
            "57/57 [==============================] - 7s 128ms/step - loss: 0.0232 - accuracy: 0.9956\n",
            "Epoch 84/100\n",
            "57/57 [==============================] - 7s 127ms/step - loss: 0.0144 - accuracy: 0.9934\n",
            "Epoch 85/100\n",
            "57/57 [==============================] - 7s 121ms/step - loss: 0.0367 - accuracy: 0.9912\n",
            "Epoch 86/100\n",
            "57/57 [==============================] - 8s 145ms/step - loss: 0.0276 - accuracy: 0.9945\n",
            "Epoch 87/100\n",
            "57/57 [==============================] - 7s 125ms/step - loss: 0.0047 - accuracy: 0.9989\n",
            "Epoch 88/100\n",
            "57/57 [==============================] - 8s 132ms/step - loss: 0.0092 - accuracy: 0.9956\n",
            "Epoch 89/100\n",
            "57/57 [==============================] - 9s 162ms/step - loss: 0.0042 - accuracy: 1.0000\n",
            "Epoch 90/100\n",
            "57/57 [==============================] - 8s 133ms/step - loss: 0.0253 - accuracy: 0.9923\n",
            "Epoch 91/100\n",
            "57/57 [==============================] - 7s 127ms/step - loss: 0.0156 - accuracy: 0.9945\n",
            "Epoch 92/100\n",
            "57/57 [==============================] - 8s 137ms/step - loss: 0.0422 - accuracy: 0.9890\n",
            "Epoch 93/100\n",
            "57/57 [==============================] - 8s 137ms/step - loss: 0.0727 - accuracy: 0.9835\n",
            "Epoch 94/100\n",
            "57/57 [==============================] - 8s 141ms/step - loss: 0.0545 - accuracy: 0.9835\n",
            "Epoch 95/100\n",
            "57/57 [==============================] - 8s 136ms/step - loss: 0.0413 - accuracy: 0.9879\n",
            "Epoch 96/100\n",
            "57/57 [==============================] - 8s 138ms/step - loss: 0.0334 - accuracy: 0.9890\n",
            "Epoch 97/100\n",
            "57/57 [==============================] - 8s 143ms/step - loss: 0.0413 - accuracy: 0.9857\n",
            "Epoch 98/100\n",
            "57/57 [==============================] - 8s 134ms/step - loss: 0.0499 - accuracy: 0.9824\n",
            "Epoch 99/100\n",
            "57/57 [==============================] - 7s 130ms/step - loss: 0.0307 - accuracy: 0.9901\n",
            "Epoch 100/100\n",
            "57/57 [==============================] - 8s 141ms/step - loss: 0.0252 - accuracy: 0.9912\n"
          ]
        }
      ],
      "source": [
        "# train the Dense model\n",
        "hist = model.fit(x_train, y_train, epochs=100, shuffle=True, batch_size=16)"
      ]
    },
    {
      "cell_type": "code",
      "execution_count": 13,
      "metadata": {
        "colab": {
          "base_uri": "https://localhost:8080/"
        },
        "id": "Fnlc0bficqpE",
        "outputId": "8ee2b12c-75fc-4aca-fa18-269e9dddfc64"
      },
      "outputs": [
        {
          "name": "stdout",
          "output_type": "stream",
          "text": [
            "7/7 [==============================] - 7s 25ms/step - loss: 0.5617 - accuracy: 0.8627\n",
            "Loss:  0.5616524815559387 --> Accuracy:  0.8627451062202454\n"
          ]
        }
      ],
      "source": [
        "evaluate = model.evaluate(x_test, y_test, batch_size=16)\n",
        "print(\"Loss: \", evaluate[0], \"--> Accuracy: \", evaluate[1])"
      ]
    },
    {
      "cell_type": "code",
      "execution_count": null,
      "metadata": {
        "id": "7rv23Ud6fNm6"
      },
      "outputs": [],
      "source": []
    }
  ],
  "metadata": {
    "colab": {
      "include_colab_link": true,
      "name": "Untitled0.ipynb",
      "provenance": []
    },
    "interpreter": {
      "hash": "916dbcbb3f70747c44a77c7bcd40155683ae19c65e1c03b4aa3499c5328201f1"
    },
    "kernelspec": {
      "display_name": "Python 3.8.10 64-bit",
      "name": "python3"
    },
    "language_info": {
      "codemirror_mode": {
        "name": "ipython",
        "version": 3
      },
      "file_extension": ".py",
      "mimetype": "text/x-python",
      "name": "python",
      "nbconvert_exporter": "python",
      "pygments_lexer": "ipython3",
      "version": "3.8.10"
    },
    "metadata": {
      "interpreter": {
        "hash": "fd69f43f58546b570e94fd7eba7b65e6bcc7a5bbc4eab0408017d18902915d69"
      }
    }
  },
  "nbformat": 4,
  "nbformat_minor": 0
}
