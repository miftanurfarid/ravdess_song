{
  "cells": [
    {
      "cell_type": "markdown",
      "metadata": {
        "colab_type": "text",
        "id": "view-in-github"
      },
      "source": [
        "<a href=\"https://colab.research.google.com/github/bagustris/ravdess_song/blob/main/ravdess_song_sd_lstm.ipynb\" target=\"_parent\"><img src=\"https://colab.research.google.com/assets/colab-badge.svg\" alt=\"Open In Colab\"/></a>"
      ]
    },
    {
      "cell_type": "markdown",
      "metadata": {
        "id": "ZcelxTz8sT6q"
      },
      "source": [
        "# RAVDESS Song Emotion Recognition with LSTM \n",
        "Acoustic features are loaded directly from data directory"
      ]
    },
    {
      "cell_type": "code",
      "execution_count": 1,
      "metadata": {
        "id": "rbMKAfNesYuy"
      },
      "outputs": [],
      "source": [
        "import glob\n",
        "import os\n",
        "import librosa\n",
        "import numpy as np\n",
        "from sklearn.model_selection import train_test_split\n",
        "import tensorflow as tf"
      ]
    },
    {
      "cell_type": "code",
      "execution_count": 2,
      "metadata": {
        "colab": {
          "base_uri": "https://localhost:8080/"
        },
        "id": "8T0F32ZRCrAG",
        "outputId": "51b89bde-1f25-43fd-c5ab-b942603515db"
      },
      "outputs": [],
      "source": [
        "#!git clone https://github.com/bagustris/ravdess_song.git"
      ]
    },
    {
      "cell_type": "code",
      "execution_count": 3,
      "metadata": {
        "colab": {
          "base_uri": "https://localhost:8080/"
        },
        "id": "b33LC9_DC0gv",
        "outputId": "54831bfc-17d0-4e42-a60a-3b31665095d0"
      },
      "outputs": [],
      "source": [
        "#cd ravdess_song/"
      ]
    },
    {
      "cell_type": "code",
      "execution_count": 4,
      "metadata": {
        "id": "EqT-75OvbIhJ"
      },
      "outputs": [],
      "source": [
        "# assign hsf to X, lab to y; reshape X for LSTM\n",
        "X = np.load('data/x.npy', allow_pickle=True)\n",
        "y = np.load('data/y.npy', allow_pickle=True)"
      ]
    },
    {
      "cell_type": "code",
      "execution_count": 5,
      "metadata": {
        "id": "L1dGaGt8Z07N"
      },
      "outputs": [],
      "source": [
        "# reshape x untuk lstm\n",
        "X = X.reshape((X.shape[0], 1, X.shape[1]))"
      ]
    },
    {
      "cell_type": "code",
      "execution_count": 11,
      "metadata": {},
      "outputs": [
        {
          "data": {
            "text/plain": [
              "(1012, 1, 386)"
            ]
          },
          "execution_count": 11,
          "metadata": {},
          "output_type": "execute_result"
        }
      ],
      "source": [
        "X.shape"
      ]
    },
    {
      "cell_type": "code",
      "execution_count": 12,
      "metadata": {},
      "outputs": [
        {
          "data": {
            "text/plain": [
              "(1012,)"
            ]
          },
          "execution_count": 12,
          "metadata": {},
          "output_type": "execute_result"
        }
      ],
      "source": [
        "y.shape"
      ]
    },
    {
      "cell_type": "code",
      "execution_count": 6,
      "metadata": {
        "id": "o0mM3RbKcI82"
      },
      "outputs": [],
      "source": [
        "# split into train and test\n",
        "x_train, x_test, y_train, y_test = train_test_split(X, y, test_size=0.1)"
      ]
    },
    {
      "cell_type": "code",
      "execution_count": 13,
      "metadata": {},
      "outputs": [
        {
          "data": {
            "text/plain": [
              "(910, 1, 386)"
            ]
          },
          "execution_count": 13,
          "metadata": {},
          "output_type": "execute_result"
        }
      ],
      "source": [
        "x_train.shape"
      ]
    },
    {
      "cell_type": "code",
      "execution_count": 14,
      "metadata": {},
      "outputs": [
        {
          "data": {
            "text/plain": [
              "(910,)"
            ]
          },
          "execution_count": 14,
          "metadata": {},
          "output_type": "execute_result"
        }
      ],
      "source": [
        "y_train.shape"
      ]
    },
    {
      "cell_type": "code",
      "execution_count": 15,
      "metadata": {},
      "outputs": [
        {
          "data": {
            "text/plain": [
              "(102, 1, 386)"
            ]
          },
          "execution_count": 15,
          "metadata": {},
          "output_type": "execute_result"
        }
      ],
      "source": [
        "x_test.shape"
      ]
    },
    {
      "cell_type": "code",
      "execution_count": 16,
      "metadata": {},
      "outputs": [
        {
          "data": {
            "text/plain": [
              "(102,)"
            ]
          },
          "execution_count": 16,
          "metadata": {},
          "output_type": "execute_result"
        }
      ],
      "source": [
        "y_test.shape"
      ]
    },
    {
      "cell_type": "code",
      "execution_count": 7,
      "metadata": {
        "id": "aq0SbnHTcMGG"
      },
      "outputs": [],
      "source": [
        "# functio to build LSTM model\n",
        "def model_lstm():\n",
        "    model = tf.keras.models.Sequential()\n",
        "    model.add(tf.keras.layers.BatchNormalization(axis=-1,\n",
        "              input_shape=(x_train.shape[1], x_train.shape[2])))\n",
        "    model.add(tf.keras.layers.LSTM(256, return_sequences=True))\n",
        "    model.add(tf.keras.layers.LSTM(256, return_sequences=True))\n",
        "    model.add(tf.keras.layers.LSTM(256, return_sequences=True))\n",
        "    model.add(tf.keras.layers.Flatten())\n",
        "    model.add(tf.keras.layers.Dropout(0.4))\n",
        "    model.add(tf.keras.layers.Dense(6, activation='softmax'))\n",
        "\n",
        "    # compile model: set loss, optimizer, metric\n",
        "    model.compile(loss=tf.keras.losses.SparseCategoricalCrossentropy(),\n",
        "                  optimizer=tf.keras.optimizers.Adam(),\n",
        "                  metrics=['accuracy'])\n",
        "    return model"
      ]
    },
    {
      "cell_type": "code",
      "execution_count": 8,
      "metadata": {
        "colab": {
          "base_uri": "https://localhost:8080/"
        },
        "id": "-vT5MfXXcX2N",
        "outputId": "30987159-268c-4922-877a-7d63d9e47c68"
      },
      "outputs": [
        {
          "name": "stdout",
          "output_type": "stream",
          "text": [
            "Model: \"sequential\"\n",
            "_________________________________________________________________\n",
            "Layer (type)                 Output Shape              Param #   \n",
            "=================================================================\n",
            "batch_normalization (BatchNo (None, 1, 386)            1544      \n",
            "_________________________________________________________________\n",
            "lstm (LSTM)                  (None, 1, 256)            658432    \n",
            "_________________________________________________________________\n",
            "lstm_1 (LSTM)                (None, 1, 256)            525312    \n",
            "_________________________________________________________________\n",
            "lstm_2 (LSTM)                (None, 1, 256)            525312    \n",
            "_________________________________________________________________\n",
            "flatten (Flatten)            (None, 256)               0         \n",
            "_________________________________________________________________\n",
            "dropout (Dropout)            (None, 256)               0         \n",
            "_________________________________________________________________\n",
            "dense (Dense)                (None, 6)                 1542      \n",
            "=================================================================\n",
            "Total params: 1,712,142\n",
            "Trainable params: 1,711,370\n",
            "Non-trainable params: 772\n",
            "_________________________________________________________________\n",
            "None\n"
          ]
        }
      ],
      "source": [
        "# create the model\n",
        "model = model_lstm()\n",
        "print(model.summary())\n",
        "# hasil print model. shape dense hanya 6 sesuai dengan outputnya yaitu 6 emosi dalam song"
      ]
    },
    {
      "cell_type": "code",
      "execution_count": 9,
      "metadata": {
        "colab": {
          "base_uri": "https://localhost:8080/"
        },
        "id": "FXO6TWIFcbxA",
        "outputId": "b8bc5127-f060-4687-8bde-5cb78a185e4b"
      },
      "outputs": [
        {
          "name": "stdout",
          "output_type": "stream",
          "text": [
            "Epoch 1/100\n",
            "57/57 [==============================] - 20s 106ms/step - loss: 1.4183 - accuracy: 0.4308\n",
            "Epoch 2/100\n",
            "57/57 [==============================] - 6s 108ms/step - loss: 0.7113 - accuracy: 0.7275\n",
            "Epoch 3/100\n",
            "57/57 [==============================] - 5s 93ms/step - loss: 0.4042 - accuracy: 0.8516\n",
            "Epoch 4/100\n",
            "57/57 [==============================] - 6s 109ms/step - loss: 0.3740 - accuracy: 0.8626\n",
            "Epoch 5/100\n",
            "57/57 [==============================] - 5s 87ms/step - loss: 0.2786 - accuracy: 0.8890\n",
            "Epoch 6/100\n",
            "57/57 [==============================] - 4s 69ms/step - loss: 0.2342 - accuracy: 0.9066\n",
            "Epoch 7/100\n",
            "57/57 [==============================] - 3s 55ms/step - loss: 0.2744 - accuracy: 0.9110\n",
            "Epoch 8/100\n",
            "57/57 [==============================] - 4s 74ms/step - loss: 0.1569 - accuracy: 0.9385\n",
            "Epoch 9/100\n",
            "57/57 [==============================] - 3s 50ms/step - loss: 0.1887 - accuracy: 0.9275\n",
            "Epoch 10/100\n",
            "57/57 [==============================] - 4s 69ms/step - loss: 0.1608 - accuracy: 0.9407\n",
            "Epoch 11/100\n",
            "57/57 [==============================] - 4s 67ms/step - loss: 0.1642 - accuracy: 0.9440\n",
            "Epoch 12/100\n",
            "57/57 [==============================] - 3s 54ms/step - loss: 0.1559 - accuracy: 0.9516\n",
            "Epoch 13/100\n",
            "57/57 [==============================] - 3s 56ms/step - loss: 0.1113 - accuracy: 0.9626\n",
            "Epoch 14/100\n",
            "57/57 [==============================] - 4s 73ms/step - loss: 0.1154 - accuracy: 0.9571\n",
            "Epoch 15/100\n",
            "57/57 [==============================] - 3s 47ms/step - loss: 0.0832 - accuracy: 0.9747\n",
            "Epoch 16/100\n",
            "57/57 [==============================] - 2s 39ms/step - loss: 0.1026 - accuracy: 0.9692\n",
            "Epoch 17/100\n",
            "57/57 [==============================] - 2s 42ms/step - loss: 0.0828 - accuracy: 0.9736\n",
            "Epoch 18/100\n",
            "57/57 [==============================] - 2s 40ms/step - loss: 0.0991 - accuracy: 0.9626\n",
            "Epoch 19/100\n",
            "57/57 [==============================] - 2s 40ms/step - loss: 0.0811 - accuracy: 0.9736\n",
            "Epoch 20/100\n",
            "57/57 [==============================] - 3s 53ms/step - loss: 0.0921 - accuracy: 0.9692\n",
            "Epoch 21/100\n",
            "57/57 [==============================] - 4s 79ms/step - loss: 0.0693 - accuracy: 0.9736\n",
            "Epoch 22/100\n",
            "57/57 [==============================] - 4s 71ms/step - loss: 0.0660 - accuracy: 0.9769\n",
            "Epoch 23/100\n",
            "57/57 [==============================] - 4s 65ms/step - loss: 0.1050 - accuracy: 0.9692\n",
            "Epoch 24/100\n",
            "57/57 [==============================] - 4s 66ms/step - loss: 0.0544 - accuracy: 0.9791\n",
            "Epoch 25/100\n",
            "57/57 [==============================] - 5s 97ms/step - loss: 0.0486 - accuracy: 0.9835\n",
            "Epoch 26/100\n",
            "57/57 [==============================] - 5s 83ms/step - loss: 0.0336 - accuracy: 0.9890\n",
            "Epoch 27/100\n",
            "57/57 [==============================] - 5s 81ms/step - loss: 0.0494 - accuracy: 0.9791\n",
            "Epoch 28/100\n",
            "57/57 [==============================] - 6s 101ms/step - loss: 0.0906 - accuracy: 0.9692\n",
            "Epoch 29/100\n",
            "57/57 [==============================] - 6s 111ms/step - loss: 0.0564 - accuracy: 0.9835\n",
            "Epoch 30/100\n",
            "57/57 [==============================] - 6s 104ms/step - loss: 0.0461 - accuracy: 0.9835\n",
            "Epoch 31/100\n",
            "57/57 [==============================] - 5s 96ms/step - loss: 0.0538 - accuracy: 0.9846\n",
            "Epoch 32/100\n",
            "57/57 [==============================] - 6s 100ms/step - loss: 0.0355 - accuracy: 0.9890\n",
            "Epoch 33/100\n",
            "57/57 [==============================] - 5s 89ms/step - loss: 0.0324 - accuracy: 0.9890\n",
            "Epoch 34/100\n",
            "57/57 [==============================] - 4s 75ms/step - loss: 0.0225 - accuracy: 0.9923\n",
            "Epoch 35/100\n",
            "57/57 [==============================] - 6s 109ms/step - loss: 0.0618 - accuracy: 0.9857\n",
            "Epoch 36/100\n",
            "57/57 [==============================] - 6s 99ms/step - loss: 0.0401 - accuracy: 0.9846\n",
            "Epoch 37/100\n",
            "57/57 [==============================] - 5s 90ms/step - loss: 0.0335 - accuracy: 0.9901\n",
            "Epoch 38/100\n",
            "57/57 [==============================] - 5s 96ms/step - loss: 0.0560 - accuracy: 0.9846\n",
            "Epoch 39/100\n",
            "57/57 [==============================] - 8s 145ms/step - loss: 0.0555 - accuracy: 0.9791\n",
            "Epoch 40/100\n",
            "57/57 [==============================] - 7s 118ms/step - loss: 0.0428 - accuracy: 0.9846\n",
            "Epoch 41/100\n",
            "57/57 [==============================] - 4s 73ms/step - loss: 0.0447 - accuracy: 0.9868\n",
            "Epoch 42/100\n",
            "57/57 [==============================] - 4s 72ms/step - loss: 0.0188 - accuracy: 0.9945\n",
            "Epoch 43/100\n",
            "57/57 [==============================] - 5s 80ms/step - loss: 0.0591 - accuracy: 0.9846\n",
            "Epoch 44/100\n",
            "57/57 [==============================] - 5s 84ms/step - loss: 0.0404 - accuracy: 0.9890\n",
            "Epoch 45/100\n",
            "57/57 [==============================] - 7s 120ms/step - loss: 0.0188 - accuracy: 0.9945\n",
            "Epoch 46/100\n",
            "57/57 [==============================] - 7s 128ms/step - loss: 0.0282 - accuracy: 0.9923\n",
            "Epoch 47/100\n",
            "57/57 [==============================] - 7s 131ms/step - loss: 0.0354 - accuracy: 0.9879\n",
            "Epoch 48/100\n",
            "57/57 [==============================] - 5s 96ms/step - loss: 0.0726 - accuracy: 0.9780\n",
            "Epoch 49/100\n",
            "57/57 [==============================] - 5s 94ms/step - loss: 0.0815 - accuracy: 0.9758\n",
            "Epoch 50/100\n",
            "57/57 [==============================] - 10s 171ms/step - loss: 0.0308 - accuracy: 0.9890\n",
            "Epoch 51/100\n",
            "57/57 [==============================] - 9s 160ms/step - loss: 0.0463 - accuracy: 0.9879\n",
            "Epoch 52/100\n",
            "57/57 [==============================] - 9s 163ms/step - loss: 0.0508 - accuracy: 0.9868\n",
            "Epoch 53/100\n",
            "57/57 [==============================] - 8s 132ms/step - loss: 0.0692 - accuracy: 0.9780\n",
            "Epoch 54/100\n",
            "57/57 [==============================] - 9s 153ms/step - loss: 0.0608 - accuracy: 0.9802\n",
            "Epoch 55/100\n",
            "57/57 [==============================] - 8s 139ms/step - loss: 0.0354 - accuracy: 0.9901\n",
            "Epoch 56/100\n",
            "57/57 [==============================] - 6s 105ms/step - loss: 0.0156 - accuracy: 0.9956\n",
            "Epoch 57/100\n",
            "57/57 [==============================] - 7s 121ms/step - loss: 0.0284 - accuracy: 0.9945\n",
            "Epoch 58/100\n",
            "57/57 [==============================] - 6s 104ms/step - loss: 0.0192 - accuracy: 0.9945\n",
            "Epoch 59/100\n",
            "57/57 [==============================] - 6s 102ms/step - loss: 0.0201 - accuracy: 0.9912\n",
            "Epoch 60/100\n",
            "57/57 [==============================] - 5s 82ms/step - loss: 0.0392 - accuracy: 0.9901\n",
            "Epoch 61/100\n",
            "57/57 [==============================] - 5s 91ms/step - loss: 0.0185 - accuracy: 0.9956\n",
            "Epoch 62/100\n",
            "57/57 [==============================] - 5s 88ms/step - loss: 0.0166 - accuracy: 0.9967\n",
            "Epoch 63/100\n",
            "57/57 [==============================] - 5s 96ms/step - loss: 0.0155 - accuracy: 0.9934\n",
            "Epoch 64/100\n",
            "57/57 [==============================] - 5s 94ms/step - loss: 0.0330 - accuracy: 0.9934\n",
            "Epoch 65/100\n",
            "57/57 [==============================] - 5s 86ms/step - loss: 0.0128 - accuracy: 0.9945\n",
            "Epoch 66/100\n",
            "57/57 [==============================] - 6s 99ms/step - loss: 0.0575 - accuracy: 0.9813\n",
            "Epoch 67/100\n",
            "57/57 [==============================] - 5s 94ms/step - loss: 0.0539 - accuracy: 0.9835\n",
            "Epoch 68/100\n",
            "57/57 [==============================] - 5s 91ms/step - loss: 0.0434 - accuracy: 0.9846\n",
            "Epoch 69/100\n",
            "57/57 [==============================] - 6s 103ms/step - loss: 0.0440 - accuracy: 0.9846\n",
            "Epoch 70/100\n",
            "57/57 [==============================] - 6s 106ms/step - loss: 0.0303 - accuracy: 0.9890\n",
            "Epoch 71/100\n",
            "57/57 [==============================] - 6s 108ms/step - loss: 0.0104 - accuracy: 0.9989\n",
            "Epoch 72/100\n",
            "57/57 [==============================] - 6s 108ms/step - loss: 0.0153 - accuracy: 0.9967\n",
            "Epoch 73/100\n",
            "57/57 [==============================] - 6s 110ms/step - loss: 0.0380 - accuracy: 0.9879\n",
            "Epoch 74/100\n",
            "57/57 [==============================] - 6s 105ms/step - loss: 0.0462 - accuracy: 0.9857\n",
            "Epoch 75/100\n",
            "57/57 [==============================] - 6s 103ms/step - loss: 0.0402 - accuracy: 0.9890\n",
            "Epoch 76/100\n",
            "57/57 [==============================] - 6s 106ms/step - loss: 0.0119 - accuracy: 0.9945\n",
            "Epoch 77/100\n",
            "57/57 [==============================] - 6s 99ms/step - loss: 0.0200 - accuracy: 0.9967\n",
            "Epoch 78/100\n",
            "57/57 [==============================] - 6s 107ms/step - loss: 0.0169 - accuracy: 0.9956\n",
            "Epoch 79/100\n",
            "57/57 [==============================] - 6s 104ms/step - loss: 0.0274 - accuracy: 0.9890\n",
            "Epoch 80/100\n",
            "57/57 [==============================] - 6s 105ms/step - loss: 0.0234 - accuracy: 0.9923\n",
            "Epoch 81/100\n",
            "57/57 [==============================] - 6s 108ms/step - loss: 0.0228 - accuracy: 0.9912\n",
            "Epoch 82/100\n",
            "57/57 [==============================] - 5s 92ms/step - loss: 0.0327 - accuracy: 0.9879\n",
            "Epoch 83/100\n",
            "57/57 [==============================] - 6s 106ms/step - loss: 0.0427 - accuracy: 0.9857\n",
            "Epoch 84/100\n",
            "57/57 [==============================] - 6s 109ms/step - loss: 0.0280 - accuracy: 0.9945\n",
            "Epoch 85/100\n",
            "57/57 [==============================] - 6s 101ms/step - loss: 0.0171 - accuracy: 0.9945\n",
            "Epoch 86/100\n",
            "57/57 [==============================] - 6s 105ms/step - loss: 0.0249 - accuracy: 0.9890\n",
            "Epoch 87/100\n",
            "57/57 [==============================] - 6s 103ms/step - loss: 0.0406 - accuracy: 0.9879\n",
            "Epoch 88/100\n",
            "57/57 [==============================] - 6s 108ms/step - loss: 0.0217 - accuracy: 0.9912\n",
            "Epoch 89/100\n",
            "57/57 [==============================] - 5s 93ms/step - loss: 0.0361 - accuracy: 0.9923\n",
            "Epoch 90/100\n",
            "57/57 [==============================] - 6s 106ms/step - loss: 0.0220 - accuracy: 0.9923\n",
            "Epoch 91/100\n",
            "57/57 [==============================] - 6s 103ms/step - loss: 0.0400 - accuracy: 0.9934\n",
            "Epoch 92/100\n",
            "57/57 [==============================] - 6s 105ms/step - loss: 0.0182 - accuracy: 0.9934\n",
            "Epoch 93/100\n",
            "57/57 [==============================] - 5s 94ms/step - loss: 0.0110 - accuracy: 0.9956\n",
            "Epoch 94/100\n",
            "57/57 [==============================] - 6s 111ms/step - loss: 0.0316 - accuracy: 0.9879\n",
            "Epoch 95/100\n",
            "57/57 [==============================] - 6s 106ms/step - loss: 0.0430 - accuracy: 0.9868\n",
            "Epoch 96/100\n",
            "57/57 [==============================] - 6s 109ms/step - loss: 0.0186 - accuracy: 0.9945\n",
            "Epoch 97/100\n",
            "57/57 [==============================] - 6s 101ms/step - loss: 0.0214 - accuracy: 0.9945\n",
            "Epoch 98/100\n",
            "57/57 [==============================] - 6s 100ms/step - loss: 0.0089 - accuracy: 0.9989\n",
            "Epoch 99/100\n",
            "57/57 [==============================] - 6s 100ms/step - loss: 0.0034 - accuracy: 1.0000\n",
            "Epoch 100/100\n",
            "57/57 [==============================] - 6s 112ms/step - loss: 0.0074 - accuracy: 0.9967\n"
          ]
        }
      ],
      "source": [
        "# train the LSTM model\n",
        "hist = model.fit(x_train, y_train, epochs=100, shuffle=True, batch_size=16)"
      ]
    },
    {
      "cell_type": "code",
      "execution_count": 10,
      "metadata": {
        "colab": {
          "base_uri": "https://localhost:8080/"
        },
        "id": "Fnlc0bficqpE",
        "outputId": "8ee2b12c-75fc-4aca-fa18-269e9dddfc64"
      },
      "outputs": [
        {
          "name": "stdout",
          "output_type": "stream",
          "text": [
            "7/7 [==============================] - 5s 24ms/step - loss: 0.1937 - accuracy: 0.9608\n",
            "Loss:  0.1936584711074829 --> Accuracy:  0.9607843160629272\n"
          ]
        }
      ],
      "source": [
        "evaluate = model.evaluate(x_test, y_test, batch_size=16)\n",
        "print(\"Loss: \", evaluate[0], \"--> Accuracy: \", evaluate[1])"
      ]
    },
    {
      "cell_type": "code",
      "execution_count": null,
      "metadata": {
        "id": "7rv23Ud6fNm6"
      },
      "outputs": [],
      "source": []
    }
  ],
  "metadata": {
    "colab": {
      "include_colab_link": true,
      "name": "Untitled0.ipynb",
      "provenance": []
    },
    "interpreter": {
      "hash": "916dbcbb3f70747c44a77c7bcd40155683ae19c65e1c03b4aa3499c5328201f1"
    },
    "kernelspec": {
      "display_name": "Python 3.8.10 64-bit",
      "name": "python3"
    },
    "language_info": {
      "codemirror_mode": {
        "name": "ipython",
        "version": 3
      },
      "file_extension": ".py",
      "mimetype": "text/x-python",
      "name": "python",
      "nbconvert_exporter": "python",
      "pygments_lexer": "ipython3",
      "version": "3.8.10"
    },
    "metadata": {
      "interpreter": {
        "hash": "fd69f43f58546b570e94fd7eba7b65e6bcc7a5bbc4eab0408017d18902915d69"
      }
    }
  },
  "nbformat": 4,
  "nbformat_minor": 0
}
